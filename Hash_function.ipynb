{
  "nbformat": 4,
  "nbformat_minor": 0,
  "metadata": {
    "colab": {
      "provenance": [],
      "collapsed_sections": []
    },
    "kernelspec": {
      "name": "python3",
      "display_name": "Python 3"
    },
    "language_info": {
      "name": "python"
    }
  },
  "cells": [
    {
      "cell_type": "code",
      "source": [
        "!pip install bitarray"
      ],
      "metadata": {
        "colab": {
          "base_uri": "https://localhost:8080/"
        },
        "id": "vw2BIK3DHJqy",
        "outputId": "4def7e69-9f38-47d0-8f72-f8ab326d3fc7"
      },
      "execution_count": null,
      "outputs": [
        {
          "output_type": "stream",
          "name": "stdout",
          "text": [
            "Looking in indexes: https://pypi.org/simple, https://us-python.pkg.dev/colab-wheels/public/simple/\n",
            "Collecting bitarray\n",
            "  Downloading bitarray-2.6.0-cp37-cp37m-manylinux_2_17_x86_64.manylinux2014_x86_64.whl (235 kB)\n",
            "\u001b[K     |████████████████████████████████| 235 kB 7.7 MB/s \n",
            "\u001b[?25hInstalling collected packages: bitarray\n",
            "Successfully installed bitarray-2.6.0\n"
          ]
        }
      ]
    },
    {
      "cell_type": "code",
      "source": [
        "import sys\n",
        "from bitarray import bitarray\n",
        "import struct\n",
        "from math import floor, sin"
      ],
      "metadata": {
        "id": "XqaJdbXdG8RO"
      },
      "execution_count": null,
      "outputs": []
    },
    {
      "cell_type": "code",
      "source": [
        "# define the binary left rotation function\n",
        "rot_left = lambda x, n: (x << n) | (x >> (256 - n))\n",
        "\n",
        "\n",
        "# define the modular addition (mod 2^32)\n",
        "mod_add = lambda x, y: (x + y) % (2**32)"
      ],
      "metadata": {
        "id": "kXJZfO_ye0KD"
      },
      "execution_count": null,
      "outputs": []
    },
    {
      "cell_type": "markdown",
      "source": [
        "**Hasher**\n",
        "\n",
        "\n",
        "1-Ajustement de la taille pour qu'elle soit un multiple de 256\n",
        "\n",
        "2- division par morceaux de 128\n",
        "\n",
        "3- faire des opérations simples avec les mots H1 H2 H3 H4\n",
        "\n",
        "4- faire le XOR avec les morceaux de 128\n",
        "\n",
        "\n"
      ],
      "metadata": {
        "id": "PWYNBkgxf7be"
      }
    },
    {
      "cell_type": "code",
      "source": [
        "def Hash(s: str):\n",
        "  s_bits = bitarray(endian='big')\n",
        "  s_bits.frombytes(s.encode('utf-8'))\n",
        "   # pad the string's bits with a 1 and then 0s until their length corresponds to 448 mod 512\n",
        "  s_bits.append(1)\n",
        "  while len(s_bits) % 128 != 0:\n",
        "    s_bits.append(0)\n",
        "\n",
        "  # convert back to little endian (since no more appending)\n",
        "  s_bits = bitarray(s_bits, endian='little')\n",
        "\n",
        "  # divide the message into 512 bits chunks\n",
        "  chunks = [s_bits[i*128:(i+1)*128] for i in range(int(len(s_bits) /128))]\n",
        "\n",
        "  for chunk in chunks:\n",
        "    # divide the chunk into 32 bits long sub-chunks and convert back to int\n",
        "    X = [chunk[i*32:(i+1)*32] for i in range(int(len(chunk)/32))]\n",
        "    X = [int.from_bytes(w.tobytes(), byteorder='little') for w in X]\n",
        "    W=[0,0,0,0]    \n",
        "    H0 = 0x01234567\n",
        "    H1 = 0x89abcdef\n",
        "    H2 = 0xfedcba98\n",
        "    H3 = 0x76543210\n",
        "\n",
        "    for i in range(0,4):\n",
        "      X[i]=X[i]^W[i] #XOR with the previous chank   \n",
        "    \n",
        "    A=mod_add(X[0],H0)\n",
        "    rot_left(W[0],5)\n",
        "    \n",
        "    B=X[1] & H1\n",
        "    rot_left(W[1],10)\n",
        "\n",
        "    C=X[2] | H2\n",
        "    rot_left(W[2],8)\n",
        "  \n",
        "    D=X[3] ^ H3\n",
        "    rot_left(W[0],15)\n",
        "\n",
        "\n",
        "    W[0]=mod_add(mod_add(A,B),D)\n",
        "    W[1]=mod_add(D,C)\n",
        "    W[2]=A^B^C\n",
        "    W[3]=C^B|D\n",
        "\n",
        "\n",
        "\n",
        "   # last step: convert the computed buffers to little endian\n",
        "    \n",
        "    return f\"{format(W[0], '08x')}{format(W[1], '08x')}{format(W[2], '08x')}{format(W[3], '08x')}\"\n",
        "\n"
      ],
      "metadata": {
        "id": "miw2DZlpdrS4"
      },
      "execution_count": 128,
      "outputs": []
    },
    {
      "cell_type": "code",
      "source": [
        "s='hello world'\n",
        "\n",
        "X=Hash(s)\n",
        "X"
      ],
      "metadata": {
        "colab": {
          "base_uri": "https://localhost:8080/",
          "height": 36
        },
        "id": "_JB2fi1jgBAi",
        "outputId": "de0646b2-ef30-4f0e-b703-fecfcef64f9f"
      },
      "execution_count": 129,
      "outputs": [
        {
          "output_type": "execute_result",
          "data": {
            "text/plain": [
              "'41afbd4e7552f1f2490d51457e54bb3c'"
            ],
            "application/vnd.google.colaboratory.intrinsic+json": {
              "type": "string"
            }
          },
          "metadata": {},
          "execution_count": 129
        }
      ]
    }
  ]
}